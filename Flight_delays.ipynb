{
  "nbformat": 4,
  "nbformat_minor": 0,
  "metadata": {
    "colab": {
      "provenance": []
    },
    "kernelspec": {
      "name": "python3",
      "display_name": "Python 3"
    },
    "language_info": {
      "name": "python"
    }
  },
  "cells": [
    {
      "cell_type": "code",
      "execution_count": null,
      "metadata": {
        "colab": {
          "base_uri": "https://localhost:8080/"
        },
        "id": "fnC9iLS8H3Uo",
        "outputId": "a0e804f7-02b2-41fb-c2d0-41de77c8e906"
      },
      "outputs": [
        {
          "output_type": "stream",
          "name": "stdout",
          "text": [
            "Collecting pyspark\n",
            "  Downloading pyspark-3.5.2.tar.gz (317.3 MB)\n",
            "\u001b[2K     \u001b[90m━━━━━━━━━━━━━━━━━━━━━━━━━━━━━━━━━━━━━━━━\u001b[0m \u001b[32m317.3/317.3 MB\u001b[0m \u001b[31m4.1 MB/s\u001b[0m eta \u001b[36m0:00:00\u001b[0m\n",
            "\u001b[?25h  Preparing metadata (setup.py) ... \u001b[?25l\u001b[?25hdone\n",
            "Requirement already satisfied: py4j==0.10.9.7 in /usr/local/lib/python3.10/dist-packages (from pyspark) (0.10.9.7)\n",
            "Building wheels for collected packages: pyspark\n",
            "  Building wheel for pyspark (setup.py) ... \u001b[?25l\u001b[?25hdone\n",
            "  Created wheel for pyspark: filename=pyspark-3.5.2-py2.py3-none-any.whl size=317812365 sha256=bdc567c9fb40890dcda5d7c88b944e1174069a16e26dff578d3aca7f94d2543f\n",
            "  Stored in directory: /root/.cache/pip/wheels/34/34/bd/03944534c44b677cd5859f248090daa9fb27b3c8f8e5f49574\n",
            "Successfully built pyspark\n",
            "Installing collected packages: pyspark\n",
            "Successfully installed pyspark-3.5.2\n"
          ]
        }
      ],
      "source": [
        "pip install pyspark"
      ]
    },
    {
      "cell_type": "code",
      "source": [
        "from pyspark.sql import SparkSession\n",
        "from pyspark.sql.functions import col, sum, avg, count"
      ],
      "metadata": {
        "id": "wD4YG5AvIKxO"
      },
      "execution_count": null,
      "outputs": []
    },
    {
      "cell_type": "code",
      "source": [
        "# Initialize SparkSession\n",
        "spark = SparkSession.builder .appName(\"Flights Analysis\") .getOrCreate()\n",
        "\n",
        "# Load the flights dataset\n",
        "flights_shikha = spark.read.format(\"csv\") .option(\"header\", \"true\").option(\"inferSchema\", \"true\") .load(\"/content/departuredelays.csv\")"
      ],
      "metadata": {
        "id": "GviQMPEbILQv"
      },
      "execution_count": null,
      "outputs": []
    },
    {
      "cell_type": "code",
      "source": [
        "flights_shikha.createOrReplaceTempView(\"flights\")"
      ],
      "metadata": {
        "id": "fI880mNUILTs"
      },
      "execution_count": null,
      "outputs": []
    },
    {
      "cell_type": "code",
      "source": [
        "# Example 1: Average delay by origin airport\n",
        "\n",
        "avg_delay_by_origin_shikha = spark.sql(\"\"\"SELECT origin, AVG(delay) as avg_delay\n",
        "    FROM flights\n",
        "    GROUP BY origin\n",
        "    ORDER BY avg_delay DESC\n",
        "    LIMIT 10\"\"\")"
      ],
      "metadata": {
        "id": "gPUh9QizILWS"
      },
      "execution_count": null,
      "outputs": []
    },
    {
      "cell_type": "code",
      "source": [
        "avg_delay_by_origin_shikha.show()"
      ],
      "metadata": {
        "colab": {
          "base_uri": "https://localhost:8080/"
        },
        "id": "R6zgF40BILZV",
        "outputId": "4410c1cf-0d6a-4ae8-d97e-bfac08f410a7"
      },
      "execution_count": null,
      "outputs": [
        {
          "output_type": "stream",
          "name": "stdout",
          "text": [
            "+------+------------------+\n",
            "|origin|         avg_delay|\n",
            "+------+------------------+\n",
            "|   GUM| 33.87777777777778|\n",
            "|   LSE|26.532467532467532|\n",
            "|   MQT| 23.87012987012987|\n",
            "|   EGE| 20.57012542759407|\n",
            "|   ROA|19.885106382978723|\n",
            "|   MDW|19.657658556043078|\n",
            "|   BTV|  18.7246192893401|\n",
            "|   ORD|18.588917606028524|\n",
            "|   IAD| 18.40343803056027|\n",
            "|   SCE| 17.91616766467066|\n",
            "+------+------------------+\n",
            "\n"
          ]
        }
      ]
    },
    {
      "cell_type": "code",
      "source": [
        "\n",
        "# Example 2: Total flights and average delay by day of week\n",
        "\n",
        "flights_by_day_shikha = spark.sql(\"\"\"\n",
        "    SELECT\n",
        "        date,\n",
        "        COUNT(*) as total_flights,\n",
        "        AVG(delay) as avg_delay\n",
        "    FROM flights\n",
        "    GROUP BY date\n",
        "    ORDER BY date\n",
        "    LIMIT 7\"\"\")"
      ],
      "metadata": {
        "id": "2IshWBjkILcF"
      },
      "execution_count": null,
      "outputs": []
    },
    {
      "cell_type": "code",
      "source": [
        "flights_by_day_shikha.collect()"
      ],
      "metadata": {
        "colab": {
          "base_uri": "https://localhost:8080/"
        },
        "id": "JSzYuxYAILeu",
        "outputId": "c791fff2-b08a-4715-e883-ead893b092d4"
      },
      "execution_count": null,
      "outputs": [
        {
          "output_type": "execute_result",
          "data": {
            "text/plain": [
              "[Row(date=1010005, total_flights=1, avg_delay=-8.0),\n",
              " Row(date=1010010, total_flights=1, avg_delay=-6.0),\n",
              " Row(date=1010020, total_flights=2, avg_delay=-1.0),\n",
              " Row(date=1010023, total_flights=1, avg_delay=14.0),\n",
              " Row(date=1010025, total_flights=2, avg_delay=15.0),\n",
              " Row(date=1010029, total_flights=1, avg_delay=49.0),\n",
              " Row(date=1010030, total_flights=3, avg_delay=-5.666666666666667)]"
            ]
          },
          "metadata": {},
          "execution_count": 10
        }
      ]
    },
    {
      "cell_type": "code",
      "source": [
        "flights_by_day_shikha.show()"
      ],
      "metadata": {
        "colab": {
          "base_uri": "https://localhost:8080/"
        },
        "id": "pY5tJUQ8ILhV",
        "outputId": "ffc4b3ab-b92f-4671-9bb3-ce42ebdc66d0"
      },
      "execution_count": null,
      "outputs": [
        {
          "output_type": "stream",
          "name": "stdout",
          "text": [
            "+-------+-------------+------------------+\n",
            "|   date|total_flights|         avg_delay|\n",
            "+-------+-------------+------------------+\n",
            "|1010005|            1|              -8.0|\n",
            "|1010010|            1|              -6.0|\n",
            "|1010020|            2|              -1.0|\n",
            "|1010023|            1|              14.0|\n",
            "|1010025|            2|              15.0|\n",
            "|1010029|            1|              49.0|\n",
            "|1010030|            3|-5.666666666666667|\n",
            "+-------+-------------+------------------+\n",
            "\n"
          ]
        }
      ]
    },
    {
      "cell_type": "code",
      "source": [
        "# Example 3: Top 5 routes with the highest total delay\n",
        "\n",
        "top_delayed_routes_shikha = spark.sql(\"\"\"\n",
        "    SELECT\n",
        "        origin,\n",
        "        destination,\n",
        "        SUM(delay) as total_delay,\n",
        "        COUNT(*) as flight_count\n",
        "    FROM flights\n",
        "    GROUP BY origin, destination\n",
        "    ORDER BY total_delay DESC\n",
        "    LIMIT 5\"\"\")"
      ],
      "metadata": {
        "id": "UKkZVVkZILk0"
      },
      "execution_count": null,
      "outputs": []
    },
    {
      "cell_type": "code",
      "source": [
        "top_delayed_routes_shikha.show()"
      ],
      "metadata": {
        "colab": {
          "base_uri": "https://localhost:8080/"
        },
        "id": "2OHOJY8qILnn",
        "outputId": "6f4abf74-fb2b-44e5-d4d8-7228b16c4bcb"
      },
      "execution_count": null,
      "outputs": [
        {
          "output_type": "stream",
          "name": "stdout",
          "text": [
            "+------+-----------+-----------+------------+\n",
            "|origin|destination|total_delay|flight_count|\n",
            "+------+-----------+-----------+------------+\n",
            "|   LAX|        SFO|      51844|        3198|\n",
            "|   ORD|        SFO|      41653|        1731|\n",
            "|   SFO|        LAX|      40798|        3232|\n",
            "|   LGA|        ATL|      35761|        2500|\n",
            "|   JFK|        LAX|      35755|        2720|\n",
            "+------+-----------+-----------+------------+\n",
            "\n"
          ]
        }
      ]
    },
    {
      "cell_type": "code",
      "source": [
        "# Show results\n",
        "print(\"Top 10 origins by average delay:\")\n",
        "avg_delay_by_origin_shikha.show()\n",
        "\n",
        "print(\"\\nFlights and average delay by day (first week):\")\n",
        "flights_by_day_shikha.show()\n",
        "\n",
        "print(\"\\nTop 5 routes with highest total delay:\")\n",
        "top_delayed_routes_shikha.show()\n"
      ],
      "metadata": {
        "colab": {
          "base_uri": "https://localhost:8080/"
        },
        "id": "uBLSbvhkILy7",
        "outputId": "487409ae-a586-4d52-e009-b8872c45c986"
      },
      "execution_count": null,
      "outputs": [
        {
          "output_type": "stream",
          "name": "stdout",
          "text": [
            "Top 10 origins by average delay:\n",
            "+------+------------------+\n",
            "|origin|         avg_delay|\n",
            "+------+------------------+\n",
            "|   GUM| 33.87777777777778|\n",
            "|   LSE|26.532467532467532|\n",
            "|   MQT| 23.87012987012987|\n",
            "|   EGE| 20.57012542759407|\n",
            "|   ROA|19.885106382978723|\n",
            "|   MDW|19.657658556043078|\n",
            "|   BTV|  18.7246192893401|\n",
            "|   ORD|18.588917606028524|\n",
            "|   IAD| 18.40343803056027|\n",
            "|   SCE| 17.91616766467066|\n",
            "+------+------------------+\n",
            "\n",
            "\n",
            "Flights and average delay by day (first week):\n",
            "+-------+-------------+------------------+\n",
            "|   date|total_flights|         avg_delay|\n",
            "+-------+-------------+------------------+\n",
            "|1010005|            1|              -8.0|\n",
            "|1010010|            1|              -6.0|\n",
            "|1010020|            2|              -1.0|\n",
            "|1010023|            1|              14.0|\n",
            "|1010025|            2|              15.0|\n",
            "|1010029|            1|              49.0|\n",
            "|1010030|            3|-5.666666666666667|\n",
            "+-------+-------------+------------------+\n",
            "\n",
            "\n",
            "Top 5 routes with highest total delay:\n",
            "+------+-----------+-----------+------------+\n",
            "|origin|destination|total_delay|flight_count|\n",
            "+------+-----------+-----------+------------+\n",
            "|   LAX|        SFO|      51844|        3198|\n",
            "|   ORD|        SFO|      41653|        1731|\n",
            "|   SFO|        LAX|      40798|        3232|\n",
            "|   LGA|        ATL|      35761|        2500|\n",
            "|   JFK|        LAX|      35755|        2720|\n",
            "+------+-----------+-----------+------------+\n",
            "\n"
          ]
        }
      ]
    },
    {
      "cell_type": "code",
      "source": [
        "spark.stop()"
      ],
      "metadata": {
        "id": "tuH8n7QyIsLm"
      },
      "execution_count": null,
      "outputs": []
    },
    {
      "cell_type": "code",
      "source": [
        "from pyspark.sql import SparkSession\n",
        "from pyspark.sql.functions import col, sum, avg, count, hour, month"
      ],
      "metadata": {
        "id": "oFazlzxBIsTh"
      },
      "execution_count": null,
      "outputs": []
    },
    {
      "cell_type": "code",
      "source": [
        "# Initialize SparkSession\n",
        "spark = SparkSession.builder .appName(\"Extended Flights Analysis\") .getOrCreate()\n",
        "\n",
        "# Load the flights dataset\n",
        "flights_shikha = spark.read.format(\"csv\") .option(\"header\", \"true\") .option(\"inferSchema\", \"true\") .load(\"/content/departuredelays.csv\")"
      ],
      "metadata": {
        "id": "iwTZ0GZCIsaI"
      },
      "execution_count": null,
      "outputs": []
    },
    {
      "cell_type": "code",
      "source": [
        "\n",
        "# Create a temporary view of the DataFrame\n",
        "flights_shikha.createOrReplaceTempView(\"flights\")"
      ],
      "metadata": {
        "id": "aTjRFKC3IsdA"
      },
      "execution_count": null,
      "outputs": []
    },
    {
      "cell_type": "code",
      "source": [
        "\n",
        "# Example 4: Average delay by origin airport (top 10)\n",
        "avg_delay_by_origin_shikha = spark.sql(\"\"\"\n",
        "    SELECT origin, AVG(delay) as avg_delay\n",
        "    FROM flights\n",
        "    GROUP BY origin\n",
        "    ORDER BY avg_delay DESC\n",
        "    LIMIT 10\"\"\")"
      ],
      "metadata": {
        "id": "Nt1wNEQHIsfu"
      },
      "execution_count": null,
      "outputs": []
    },
    {
      "cell_type": "code",
      "source": [
        "\n",
        "# Example 5: Top 5 busiest routes\n",
        "busiest_routes_shikha= spark.sql(\"\"\"\n",
        "    SELECT\n",
        "        origin,\n",
        "        destination,\n",
        "        COUNT(*) as flight_count\n",
        "    FROM flights\n",
        "    GROUP BY origin, destination\n",
        "    ORDER BY flight_count DESC\n",
        "    LIMIT 5\"\"\")"
      ],
      "metadata": {
        "id": "nBqxhTH5IsiJ"
      },
      "execution_count": null,
      "outputs": []
    },
    {
      "cell_type": "code",
      "source": [
        "# Example 6: Monthly flight trends\n",
        "\n",
        "monthly_trends_shikha = spark.sql(\"\"\"\n",
        "    SELECT\n",
        "        SUBSTRING(CAST(date AS STRING), 5, 2) as month,\n",
        "        COUNT(*) as total_flights,\n",
        "        AVG(delay) as avg_delay\n",
        "    FROM flights\n",
        "    GROUP BY SUBSTRING(CAST(date AS STRING), 5, 2)\n",
        "    ORDER BY month\"\"\")\n"
      ],
      "metadata": {
        "id": "eU8s_8DPIsln"
      },
      "execution_count": null,
      "outputs": []
    },
    {
      "cell_type": "code",
      "source": [
        "# Example 7: Percentage of delayed flights by origin\n",
        "delayed_percentage_shikha = spark.sql(\"\"\"\n",
        "    SELECT\n",
        "        origin,\n",
        "        COUNT(*) as total_flights,\n",
        "        SUM(CASE WHEN delay > 0 THEN 1 ELSE 0 END) as delayed_flights,\n",
        "        (SUM(CASE WHEN delay > 0 THEN 1 ELSE 0 END) * 100.0 / COUNT(*)) as delayed_percentage\n",
        "    FROM flights\n",
        "    GROUP BY origin\n",
        "    ORDER BY delayed_percentage DESC\n",
        "    LIMIT 10\"\"\")\n",
        "\n"
      ],
      "metadata": {
        "id": "_fMtKPugI9Yy"
      },
      "execution_count": null,
      "outputs": []
    },
    {
      "cell_type": "code",
      "source": [
        "# Example 8: Average delay by hour of day\n",
        "delay_by_hour_shikha = spark.sql(\"\"\"\n",
        "    SELECT\n",
        "        CAST(SUBSTRING(CAST(date AS STRING), 10, 2) AS INT) as hour,\n",
        "        AVG(delay) as avg_delay\n",
        "    FROM flights\n",
        "    GROUP BY SUBSTRING(CAST(date AS STRING), 10, 2)\n",
        "    ORDER BY hour\"\"\")\n"
      ],
      "metadata": {
        "id": "TDawXkVYI9bf"
      },
      "execution_count": null,
      "outputs": []
    },
    {
      "cell_type": "code",
      "source": [
        "\n",
        "# Show results\n",
        "print(\"Top 10 origins by average delay:\")\n",
        "avg_delay_by_origin_shikha.show()\n",
        "\n",
        "print(\"\\nTop 5 busiest routes:\")\n",
        "busiest_routes_shikha.show()\n",
        "\n",
        "print(\"\\nMonthly flight trends:\")\n",
        "monthly_trends_shikha.show()\n",
        "\n",
        "print(\"\\nTop 10 origins by percentage of delayed flights:\")\n",
        "delayed_percentage_shikha.show()\n",
        "\n",
        "print(\"\\nAverage delay by hour of day:\")\n",
        "delay_by_hour_shikha.show()\n"
      ],
      "metadata": {
        "colab": {
          "base_uri": "https://localhost:8080/"
        },
        "id": "Y2pAdZN0I9dk",
        "outputId": "08f0add1-986d-4eb9-818a-49368c43ac1b"
      },
      "execution_count": null,
      "outputs": [
        {
          "output_type": "stream",
          "name": "stdout",
          "text": [
            "Top 10 origins by average delay:\n",
            "+------+------------------+\n",
            "|origin|         avg_delay|\n",
            "+------+------------------+\n",
            "|   GUM| 33.87777777777778|\n",
            "|   LSE|26.532467532467532|\n",
            "|   MQT| 23.87012987012987|\n",
            "|   EGE| 20.57012542759407|\n",
            "|   ROA|19.885106382978723|\n",
            "|   MDW|19.657658556043078|\n",
            "|   BTV|  18.7246192893401|\n",
            "|   ORD|18.588917606028524|\n",
            "|   IAD| 18.40343803056027|\n",
            "|   SCE| 17.91616766467066|\n",
            "+------+------------------+\n",
            "\n",
            "\n",
            "Top 5 busiest routes:\n",
            "+------+-----------+------------+\n",
            "|origin|destination|flight_count|\n",
            "+------+-----------+------------+\n",
            "|   SFO|        LAX|        3232|\n",
            "|   LAX|        SFO|        3198|\n",
            "|   LAS|        LAX|        3016|\n",
            "|   LAX|        LAS|        2964|\n",
            "|   JFK|        LAX|        2720|\n",
            "+------+-----------+------------+\n",
            "\n",
            "\n",
            "Monthly flight trends:\n",
            "+-----+-------------+------------------+\n",
            "|month|total_flights|         avg_delay|\n",
            "+-----+-------------+------------------+\n",
            "|   00|        30649|11.788965382231067|\n",
            "|   01|        25780|11.812063615205586|\n",
            "|   02|        22895|13.687311640096091|\n",
            "|   03|        25564|13.048623063683305|\n",
            "|   04|        21493|13.328013771925743|\n",
            "|   05|        23497|13.285057666936204|\n",
            "|   10|        26978| 13.16543109200089|\n",
            "|   11|        23701|12.136070208008102|\n",
            "|   12|        20706|11.687192118226601|\n",
            "|   13|        19877|11.790461337223928|\n",
            "|   14|        19595|12.156723653993366|\n",
            "|   15|        22111|12.806883451675636|\n",
            "|   20|        21945| 11.77717019822283|\n",
            "|   21|        18080|11.789546460176991|\n",
            "|   22|        15428|  13.0869198859217|\n",
            "|   23|        17676|11.292939579090293|\n",
            "|   24|        15752|11.935627221940072|\n",
            "|   25|        16961|11.581451565355817|\n",
            "|   30|        18012|11.682378414390406|\n",
            "|   31|        17022|12.303900834214545|\n",
            "+-----+-------------+------------------+\n",
            "only showing top 20 rows\n",
            "\n",
            "\n",
            "Top 10 origins by percentage of delayed flights:\n",
            "+------+-------------+---------------+------------------+\n",
            "|origin|total_flights|delayed_flights|delayed_percentage|\n",
            "+------+-------------+---------------+------------------+\n",
            "|   DAL|        11272|           7153| 63.45812633073101|\n",
            "|   MDW|        20056|          12671| 63.17810131631432|\n",
            "|   HOU|        14740|           8639| 58.60922659430122|\n",
            "|   DEN|        53148|          30760| 57.87611951531572|\n",
            "|   BWI|        21558|          12448| 57.74190555710177|\n",
            "|   OAK|        10026|           5423| 54.08936764412527|\n",
            "|   LSE|          154|             83| 53.89610389610390|\n",
            "|   ORD|        64228|          33812| 52.64370679454444|\n",
            "|   ISP|         1370|            720| 52.55474452554745|\n",
            "|   STL|        12142|           6250| 51.47422170976775|\n",
            "+------+-------------+---------------+------------------+\n",
            "\n",
            "\n",
            "Average delay by hour of day:\n",
            "+----+------------------+\n",
            "|hour|         avg_delay|\n",
            "+----+------------------+\n",
            "|NULL|12.079802928761449|\n",
            "+----+------------------+\n",
            "\n"
          ]
        }
      ]
    },
    {
      "cell_type": "code",
      "source": [
        "spark.stop()"
      ],
      "metadata": {
        "id": "URoDQvFZI9f1"
      },
      "execution_count": null,
      "outputs": []
    },
    {
      "cell_type": "code",
      "source": [],
      "metadata": {
        "id": "rS-nFCxyI9kj"
      },
      "execution_count": null,
      "outputs": []
    },
    {
      "cell_type": "code",
      "source": [],
      "metadata": {
        "id": "159n1r8dI9mw"
      },
      "execution_count": null,
      "outputs": []
    },
    {
      "cell_type": "code",
      "source": [],
      "metadata": {
        "id": "dWmxIH7UI9pA"
      },
      "execution_count": null,
      "outputs": []
    },
    {
      "cell_type": "code",
      "source": [],
      "metadata": {
        "id": "pBPgOt4uI9rJ"
      },
      "execution_count": null,
      "outputs": []
    },
    {
      "cell_type": "code",
      "source": [],
      "metadata": {
        "id": "_wmhSfvLI9ud"
      },
      "execution_count": null,
      "outputs": []
    }
  ]
}